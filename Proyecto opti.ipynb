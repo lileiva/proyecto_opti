{
 "cells": [
  {
   "cell_type": "code",
   "execution_count": 1,
   "metadata": {},
   "outputs": [],
   "source": [
    "import pandas as pd\n",
    "from random import randint\n",
    "from random import choice\n",
    "from random import seed\n",
    "import time\n",
    "seed(1)\n",
    "from collections import defaultdict\n",
    "datos_corredores = pd.read_csv(\"corredores.csv\", sep=\";\", encoding=\"ascii\" )\n",
    "datos_carreras = pd.read_csv(\"lugares.csv\", sep=\";\", encoding=\"ascii\" )"
   ]
  },
  {
   "cell_type": "code",
   "execution_count": 2,
   "metadata": {},
   "outputs": [],
   "source": [
    "X = [\"juvenil\", \"sub_23\", \"elite\", \"masterA\", \"masterB\", \"masterC\", \"masterD\", \"masterE\"]\n",
    "# T  = sabados del año + domingos del año\n",
    "T = list(range(6,366, 7)) + list(range(7,366, 7)) \n",
    "###\n",
    "R = ['IV', 'RM', 'V', 'VI', 'VII', 'VIII', 'XIV']\n",
    "I = datos_corredores.nombre.tolist()\n",
    "P = datos_carreras[\"Carrera\"].tolist()\n",
    "for i in range(len(P)):\n",
    "    P[i] = P[i] + \"-\" + str(i)\n",
    "\n",
    "\n",
    "K_r = {}\n",
    "for r in R:\n",
    "    K_r[r] = randint(40, 100)\n",
    "\n",
    "\n",
    "Q = [\"c1\",\"c2\",\"c3\",\"c4\",\"c5\",\"c6\",\"c7\",\"c8\",\"c9\",\"c10\"]\n",
    "A = 5000000\n",
    "B = 4\n",
    "E = list(range(17, 55))\n",
    "L = []\n",
    "L_r = defaultdict(list)\n",
    "for i in R:\n",
    "    for x in range(randint(1, 4)):\n",
    "        L.extend([i+\"/L\"+ str(x)])\n",
    "        L_r[i].append(i+\"/L\"+ str(x))\n"
   ]
  },
  {
   "cell_type": "code",
   "execution_count": 3,
   "metadata": {},
   "outputs": [],
   "source": [
    "\n",
    "C_i = defaultdict(str)\n",
    "for x in I:\n",
    "    C_i[x] = choice(R)\n",
    "    "
   ]
  },
  {
   "cell_type": "code",
   "execution_count": 4,
   "metadata": {},
   "outputs": [],
   "source": [
    "datos_carreras[\"dia\"] = datos_carreras.Fecha.apply(lambda x: time.strptime(x, \"%d-%m-%Y\").tm_yday)\n",
    "dias = datos_carreras[\"dia\"]\n",
    "regiones = datos_carreras[\"Region\"]\n",
    "F_lt = defaultdict(dict)\n",
    "for a in range(len(dias)):\n",
    "    r = regiones[a]\n",
    "    d = dias[a]\n",
    "    lugares = L_r[r]\n",
    "    for l in lugares:\n",
    "        if F_lt[l].get(d) is None:\n",
    "            F_lt[l][d] = 1\n",
    "            break"
   ]
  },
  {
   "cell_type": "code",
   "execution_count": null,
   "metadata": {},
   "outputs": [],
   "source": []
  },
  {
   "cell_type": "code",
   "execution_count": 5,
   "metadata": {},
   "outputs": [],
   "source": [
    "\n",
    "for i in T:\n",
    "    for l in L:\n",
    "        if F_lt[l].get(i) != 1:\n",
    "            F_lt[l][i] = int(randint(0, 100) > 90)"
   ]
  },
  {
   "cell_type": "code",
   "execution_count": 6,
   "metadata": {},
   "outputs": [],
   "source": [
    "Y_l = defaultdict(int)\n",
    "for l in L:\n",
    "    Y_l[l] = randint(100000, 500000)"
   ]
  },
  {
   "cell_type": "code",
   "execution_count": 7,
   "metadata": {},
   "outputs": [],
   "source": [
    "D_rs = defaultdict(dict)\n",
    "for i in range(0,len(R)):\n",
    "    for x in range(len(R) - i):\n",
    "        D_rs[R[x]][R[x+i]] = i\n",
    "        D_rs[R[x+i]][R[x]] = i"
   ]
  },
  {
   "cell_type": "code",
   "execution_count": 8,
   "metadata": {},
   "outputs": [],
   "source": [
    "\n",
    "P_jt=defaultdict(int)\n",
    "P_jr=defaultdict(str)\n",
    "Beta_j=defaultdict(int)\n",
    "Mu_l = defaultdict(int)\n",
    "for i in L:\n",
    "    Mu_l[i] = randint(200, 500)\n",
    "datos_carreras[\"dia\"] = datos_carreras.Fecha.apply(lambda x: time.strptime(x, \"%d-%m-%Y\").tm_yday)\n",
    "for i in range(len(P)):\n",
    "    r = datos_carreras[\"Region\"].tolist()[i]\n",
    "    t = datos_carreras[\"dia\"].tolist()[i]\n",
    "    P_jt[P[i]] = t\n",
    "    P_jr[P[i]] = r\n",
    "    l = choice(L_r[r])\n",
    "    F_lt[l][t] = 1\n",
    "    Beta_j[P[i]]=randint( max([Mu_l[l]-100, 100]) , Mu_l[l])\n",
    "    "
   ]
  },
  {
   "cell_type": "code",
   "execution_count": 9,
   "metadata": {
    "scrolled": true
   },
   "outputs": [],
   "source": [
    "H = 12000\n",
    "K_r = defaultdict(int)\n",
    "for x in R:\n",
    "    K_r[x] = 100\n",
    "Ohm = 1000\n",
    "Libra = 1000\n",
    "\n",
    "Mu_l = defaultdict(int)\n",
    "for i in L:\n",
    "    Mu_l[i] = randint(200, 500)"
   ]
  },
  {
   "cell_type": "code",
   "execution_count": 10,
   "metadata": {},
   "outputs": [],
   "source": [
    "U_it = defaultdict(dict)\n",
    "for i in I:\n",
    "    for t in T:\n",
    "        U_it[i][t] = 0\n",
    "    for t in datos_carreras[\"dia\"].tolist():\n",
    "        U_it[i][t] = int(randint(1, 100)  >  92)\n"
   ]
  },
  {
   "cell_type": "code",
   "execution_count": 11,
   "metadata": {},
   "outputs": [],
   "source": [
    "with open(\"parametros/F_lt.csv\", \"w\") as file:\n",
    "    line=\";\"\n",
    "    for t in T:\n",
    "        line += str(t)+\";\"\n",
    "    file.write(line + \"\\n\")\n",
    "    for l, aux in F_lt.items():\n",
    "        line = str(l) + \";\"\n",
    "        for t, val in aux.items():\n",
    "            line += str(val) + \";\"\n",
    "        file.write(line + \"\\n\")\n",
    "\n",
    "with open(\"parametros/D_rs.csv\", \"w\") as file:\n",
    "    line=\";\"\n",
    "    for r in R:\n",
    "        line += str(r)+\";\"\n",
    "    file.write(line + \"\\n\")\n",
    "    for r, aux in D_rs.items():\n",
    "        line = str(r) + \";\"\n",
    "        for s, val in aux.items():\n",
    "            line += str(val) + \";\"\n",
    "        file.write(line + \"\\n\")\n",
    "\n",
    "\n",
    "with open(\"parametros/U_it.csv\", \"w\") as file:\n",
    "    line=\";\"\n",
    "    for t in T:\n",
    "        line += str(t)+\";\"\n",
    "    file.write(line + \"\\n\")\n",
    "    for i, aux in U_it.items():\n",
    "        line = str(i) + \";\"\n",
    "        for s, val in aux.items():\n",
    "            line += str(val) + \";\"\n",
    "        file.write(line + \"\\n\")\n",
    "\n",
    "\n",
    "        \n",
    "        \n",
    "##################### largo 1\n",
    "with open(\"parametros/Mu_l.csv\", \"w\") as file:\n",
    "    file.write(\"lugar;capacidad\\n\")\n",
    "    for x, y in Mu_l.items():\n",
    "        file.write(\"{};{}\\n\".format(x,y))\n",
    "\n",
    "with open(\"parametros/Y_l.csv\", \"w\") as file:\n",
    "    file.write(\"lugar;precio\\n\")\n",
    "    for x, y in Y_l.items():\n",
    "        file.write(\"{};{}\\n\".format(x,y))\n",
    "\n",
    "with open(\"parametros/C_i.csv\", \"w\") as file:\n",
    "    file.write(\"corredor;region\\n\")\n",
    "    for x, y in C_i.items():\n",
    "        file.write(\"{};{}\\n\".format(x,y))\n",
    "def wri(arch, var):\n",
    "    arch.write(\"{};{}\\n\".format(var, eval(var)))\n",
    "\n",
    "################### constantes\n",
    "with open(\"parametros/constantes.csv\", \"w\") as file:\n",
    "    wri(file, \"A\")\n",
    "    wri(file, \"B\")\n",
    "    wri(file, \"H\")\n",
    "    wri(file, \"Libra\")\n",
    "    wri(file, \"Ohm\")"
   ]
  },
  {
   "cell_type": "code",
   "execution_count": 12,
   "metadata": {},
   "outputs": [
    {
     "data": {
      "text/plain": [
       "''"
      ]
     },
     "execution_count": 12,
     "metadata": {},
     "output_type": "execute_result"
    }
   ],
   "source": [
    "### Conjuntos ###\n",
    "\"\"\"\n",
    "I: corredores\n",
    "T: dias del año\n",
    "R: regiones\n",
    "X: categorias\n",
    "P: carreras ya agendadas\n",
    "Q: carreras a agendar\n",
    "L: lugares disponibles\n",
    "E: edades\n",
    "\n",
    "\"\"\"\n",
    "### parametros ###\n",
    "\"\"\"\n",
    "Constantes\n",
    "A: presupuesto\n",
    "B: numero minimo de carreras a agendar\n",
    "H: costo incripcion carrera\n",
    "Libra: multa por agendar en xla misma fecha q exista otra carrera\n",
    "Ohm: multa por distancia entre region x y region y\n",
    "\n",
    "conjuntos 1D:\n",
    "C_i: region corredor i\n",
    "Y_l: precio de arrendar lugar l\n",
    "...\n",
    "\n",
    "\n",
    "\n",
    "\"\"\"\n",
    "\"\""
   ]
  },
  {
   "cell_type": "code",
   "execution_count": 13,
   "metadata": {},
   "outputs": [],
   "source": [
    "from gurobipy import *\n"
   ]
  },
  {
   "cell_type": "code",
   "execution_count": 14,
   "metadata": {},
   "outputs": [],
   "source": [
    "model = Model(\"Planificacion Carreras MTB2\")"
   ]
  },
  {
   "cell_type": "markdown",
   "metadata": {},
   "source": [
    "## Variables\n",
    "\n",
    "*\t𝑉_𝑖𝑗 = 1 ssi el corredor i ∈ I asiste a la carrera j ∈ Q. 0 en otro caso\n",
    "*\t𝑍_𝑗𝑡 = 1 ssi se agenda la carrera j ∈ Q en la fecha t ∈ T. 0 en otro caso\n",
    "*\t𝑀_𝑗𝑟 = 1 ssi la carrera j ∈ Q se corre en la región r ∈ R. 0 en otro caso \n",
    "*\t𝑆_𝑗𝑙 = 1 ssi la carrera j ∈ Q se corre en el lugar l ∈ L. 0 en otro caso\n"
   ]
  },
  {
   "cell_type": "code",
   "execution_count": 15,
   "metadata": {},
   "outputs": [],
   "source": [
    "\n",
    "def add_Var(c1, c2, var):\n",
    "    aux = eval(var + \"_\" + c1.lower() + c2.lower())\n",
    "    if c1 != \"j\":\n",
    "        conjunto1 = eval(c1.upper())\n",
    "    else:\n",
    "        conjunto1 = Q\n",
    "    if c2 != \"j\":\n",
    "        conjunto2 = eval(c2.upper())\n",
    "    else:\n",
    "        conjunto2 = Q\n",
    "    for x in conjunto1:\n",
    "        for y in conjunto2:\n",
    "            aux[x,y] = model.addVar(vtype=GRB.BINARY, name=\"{}_{}{}\".format(var,c1,c2))\n",
    "\n",
    "V_ij = {}\n",
    "Z_jt = {}\n",
    "M_jr = {}\n",
    "S_jl = {}\n",
    "Y_jr = {}\n",
    "\n",
    "\n",
    "\n",
    "add_Var(\"i\", \"j\", \"V\")\n",
    "add_Var(\"j\", \"t\", \"Z\")\n",
    "add_Var(\"j\", \"r\", \"M\")\n",
    "add_Var(\"j\", \"l\", \"S\")\n",
    "\n",
    "\n",
    "# Llama a update para agregar las variables al modelo\n",
    "model.update()"
   ]
  },
  {
   "cell_type": "code",
   "execution_count": 16,
   "metadata": {},
   "outputs": [],
   "source": [
    "# Construcciones de variables\n",
    "# R1\n",
    "for j in Q:\n",
    "    for r in R:\n",
    "        model.addConstr(\n",
    "            M_jr[j,r] == quicksum([ S_jl[(j,l)] for l in L_r[r] ]),\n",
    "            \"MS_{}_{}\".format(j,r)\n",
    "        )"
   ]
  },
  {
   "cell_type": "code",
   "execution_count": 17,
   "metadata": {},
   "outputs": [],
   "source": [
    "# R2\n",
    "for j in Q:\n",
    "    for i in I:\n",
    "        model.addConstr(\n",
    "            quicksum([S_jl[j,l] for l in L ]) >= V_ij[i,j],\n",
    "            \"SV_{}{}\".format(j,i)\n",
    "        )\n"
   ]
  },
  {
   "cell_type": "code",
   "execution_count": 18,
   "metadata": {},
   "outputs": [],
   "source": [
    "# R3\n",
    "for j in Q:\n",
    "    model.addConstr(\n",
    "        quicksum([S_jl[j,l] for l in L]) == quicksum([Z_jt[j,t] for t in T]),\n",
    "        \"j_{}\".format(j)\n",
    "    )\n"
   ]
  },
  {
   "cell_type": "code",
   "execution_count": 19,
   "metadata": {},
   "outputs": [],
   "source": [
    "# R4\n",
    "\n",
    "for i in I:\n",
    "    for j in Q:\n",
    "        for t in T:\n",
    "            model.addConstr(\n",
    "                V_ij[i,j] <= 1 - U_it[i][t],\n",
    "                \"VZU_{}_{}_{}\".format(i,j,t)\n",
    "            )"
   ]
  },
  {
   "cell_type": "code",
   "execution_count": 20,
   "metadata": {},
   "outputs": [],
   "source": [
    "# R5\n",
    "\n",
    "for j in Q:\n",
    "    model.addConstr(\n",
    "        quicksum([ V_ij[i,j] for i in I]) <= quicksum([Mu_l[l] * S_jl[j,l] for l in L] ),\n",
    "                \"R3_{}\".format(j)\n",
    "    )"
   ]
  },
  {
   "cell_type": "code",
   "execution_count": 21,
   "metadata": {},
   "outputs": [],
   "source": [
    "# R6\n",
    "\n",
    "for t in T:\n",
    "    for j in Q:\n",
    "        model.addConstr(\n",
    "            Z_jt[j,t] <= quicksum([F_lt[l][t] for l in L ]),\n",
    "            \"R4_{}_{}\".format(j,t)\n",
    "        )\n",
    "\n"
   ]
  },
  {
   "cell_type": "code",
   "execution_count": 22,
   "metadata": {},
   "outputs": [],
   "source": [
    "# R7\n",
    "\n",
    "\n",
    "for j in Q:\n",
    "    for l in L:\n",
    "        model.addConstr(\n",
    "            S_jl[j,l]<=quicksum([F_lt[l][t] for t in T ]),\n",
    "            \"R5_{}_{}\".format(t,j,l)\n",
    "        )"
   ]
  },
  {
   "cell_type": "code",
   "execution_count": 23,
   "metadata": {},
   "outputs": [],
   "source": [
    "# R8\n",
    "for r in R:\n",
    "    model.addConstr(\n",
    "        quicksum([int(P_jr[j] == r) for j in P]) + quicksum([M_jr[j,r]  for j in Q]) <= K_r[r],\n",
    "        \"R8_{}\".format(r)\n",
    "    )\n",
    "            "
   ]
  },
  {
   "cell_type": "code",
   "execution_count": 24,
   "metadata": {},
   "outputs": [],
   "source": [
    "# R9\n",
    "\n",
    "for j in Q:\n",
    "    for q in Q:\n",
    "        for t in T[:-1]:\n",
    "            if j != q:\n",
    "                try:\n",
    "                    model.addConstr(\n",
    "                        Z_jt[j,t] + Z_jt[q, t+1] <= 1,\n",
    "                        \"R11_{}_{}_{}\".format(j,q,t)\n",
    "                    )\n",
    "                except:\n",
    "                    pass\n",
    "                try:\n",
    "                    model.addConstr(\n",
    "                        Z_jt[j,t] + Z_jt[q, t+6] <= 1,\n",
    "                        \"R11_{}_{}_{}\".format(j,q,t)\n",
    "                    )\n",
    "                except:\n",
    "                    pass\n",
    "                try:\n",
    "                    model.addConstr(\n",
    "                        Z_jt[j,t] + Z_jt[q, t+7] <= 1,\n",
    "                        \"R11_{}_{}_{}\".format(j,q,t)\n",
    "                    )\n",
    "                except:\n",
    "                    pass"
   ]
  },
  {
   "cell_type": "code",
   "execution_count": 25,
   "metadata": {},
   "outputs": [
    {
     "data": {
      "text/plain": [
       "<gurobi.Constr *Awaiting Model Update*>"
      ]
     },
     "execution_count": 25,
     "metadata": {},
     "output_type": "execute_result"
    }
   ],
   "source": [
    "# R10\n",
    "model.addConstr(\n",
    "    quicksum([quicksum([S_jl[j,l] * Y_l[l] for l in L]) for j in Q]) <= A,\n",
    "    \"R12\"\n",
    ")"
   ]
  },
  {
   "cell_type": "code",
   "execution_count": 26,
   "metadata": {},
   "outputs": [
    {
     "data": {
      "text/plain": [
       "<gurobi.Constr *Awaiting Model Update*>"
      ]
     },
     "execution_count": 26,
     "metadata": {},
     "output_type": "execute_result"
    }
   ],
   "source": [
    "# R11\n",
    "\n",
    "model.addConstr(\n",
    "    quicksum([quicksum([S_jl[j,l] for l in L]) for j in Q]) >= B,\n",
    "    \"R131\"\n",
    ")\n",
    "model.addConstr(\n",
    "    quicksum([quicksum([Z_jt[j,t] for t in T]) for j in Q]) >= B,\n",
    "    \"R132\"\n",
    ")"
   ]
  },
  {
   "cell_type": "code",
   "execution_count": 27,
   "metadata": {},
   "outputs": [],
   "source": [
    "# R12\n",
    "\n",
    "for j in Q:\n",
    "    for q in Q:\n",
    "        for t in T[:-1]:\n",
    "            if j != q:\n",
    "                model.addConstr(\n",
    "                    Z_jt[j,t] + Z_jt[q, t] <= 1,\n",
    "                    \"R13_{}_{}_{}\".format(j,q,t)\n",
    "                )\n"
   ]
  },
  {
   "cell_type": "code",
   "execution_count": 28,
   "metadata": {},
   "outputs": [],
   "source": [
    "# FO\n",
    "\n",
    "p1 = quicksum([quicksum([V_ij[i,j] * H for i in I ]) for j in Q])\n"
   ]
  },
  {
   "cell_type": "code",
   "execution_count": 29,
   "metadata": {},
   "outputs": [],
   "source": [
    "p2 = quicksum([Y_l[l] * quicksum([S_jl[j,l] for j in Q]) for l in L ])\n"
   ]
  },
  {
   "cell_type": "code",
   "execution_count": 30,
   "metadata": {},
   "outputs": [],
   "source": [
    "for x, y in P_jt.items():\n",
    "    if i not in T:\n",
    "        for w in T:\n",
    "            if w <= y + 7:\n",
    "                P_jt[x] = w\n",
    "P_jt[\"xco la ronciere-18\"] = 167\n",
    "p3 = quicksum([ quicksum( [ Z_jt[j,P_jt[i]] * Libra for i in P ] ) for j in Q ])\n"
   ]
  },
  {
   "cell_type": "code",
   "execution_count": 31,
   "metadata": {},
   "outputs": [],
   "source": [
    "p4 = quicksum( [ quicksum([ quicksum([Ohm * D_rs[C_i[i]][r] * V_ij[i,j] * M_jr[j,r] for i in I ]) for r in R ]) for j in Q])\n"
   ]
  },
  {
   "cell_type": "code",
   "execution_count": 32,
   "metadata": {
    "scrolled": false
   },
   "outputs": [
    {
     "name": "stdout",
     "output_type": "stream",
     "text": [
      "Optimize a model with 587660 rows, 6630 columns and 730220 nonzeros\n",
      "Model has 31920 quadratic objective terms\n",
      "Variable types: 0 continuous, 6630 integer (6630 binary)\n",
      "Coefficient statistics:\n",
      "  Matrix range     [1e+00, 5e+05]\n",
      "  Objective range  [1e+03, 5e+05]\n",
      "  QObjective range [2e+03, 1e+04]\n",
      "  Bounds range     [1e+00, 1e+00]\n",
      "  RHS range        [1e+00, 5e+06]\n",
      "Found heuristic solution: objective -1251753.000\n",
      "Presolve removed 585597 rows and 5180 columns\n",
      "Presolve time: 0.50s\n",
      "Presolved: 4703 rows, 4090 columns, 30040 nonzeros\n",
      "Found heuristic solution: objective 1767521.0000\n",
      "Variable types: 0 continuous, 4090 integer (4090 binary)\n",
      "\n",
      "Root relaxation: objective 3.372650e+06, 2163 iterations, 0.13 seconds\n",
      "\n",
      "    Nodes    |    Current Node    |     Objective Bounds      |     Work\n",
      " Expl Unexpl |  Obj  Depth IntInf | Incumbent    BestBd   Gap | It/Node Time\n",
      "\n",
      "     0     0 3372650.00    0  510 1767521.00 3372650.00  90.8%     -    0s\n",
      "     0     0 3342364.29    0  568 1767521.00 3342364.29  89.1%     -    1s\n",
      "H    0     0                    3261570.0000 3342364.29  2.48%     -    1s\n",
      "     0     0 3323364.29    0  617 3261570.00 3323364.29  1.89%     -    1s\n",
      "     0     0 3305792.86    0  655 3261570.00 3305792.86  1.36%     -    1s\n",
      "     0     0 3292364.29    0  690 3261570.00 3292364.29  0.94%     -    1s\n",
      "     0     0 3282005.43    0  574 3261570.00 3282005.43  0.63%     -    1s\n",
      "     0     0 3277646.57    0  441 3261570.00 3277646.57  0.49%     -    1s\n",
      "     0     0 3274252.86    0  374 3261570.00 3274252.86  0.39%     -    1s\n",
      "     0     0 3271110.00    0  384 3261570.00 3271110.00  0.29%     -    1s\n",
      "     0     0 3268144.86    0  310 3261570.00 3268144.86  0.20%     -    1s\n",
      "     0     0     cutoff    0      3261570.00 3261570.00  0.00%     -    1s\n",
      "\n",
      "Cutting planes:\n",
      "  Gomory: 6\n",
      "  MIR: 248\n",
      "  Zero half: 20\n",
      "\n",
      "Explored 1 nodes (3582 simplex iterations) in 1.40 seconds\n",
      "Thread count was 8 (of 8 available processors)\n",
      "\n",
      "Solution count 3: 3.26157e+06 1.76752e+06 -799479 \n",
      "\n",
      "Optimal solution found (tolerance 1.00e-04)\n",
      "Best objective 3.261570000000e+06, best bound 3.261570000000e+06, gap 0.0000%\n"
     ]
    }
   ],
   "source": [
    "model.update()\n",
    "model.setObjective( p1-p2-p3-p4, GRB.MAXIMIZE)\n",
    "\n",
    "model.optimize()"
   ]
  },
  {
   "cell_type": "code",
   "execution_count": 37,
   "metadata": {},
   "outputs": [
    {
     "name": "stdout",
     "output_type": "stream",
     "text": [
      "3\n",
      "Changed value of parameter SolutionNumber to 0\n",
      "   Prev: 2  Min: 0  Max: 2000000000  Default: 0\n",
      "470.0\n",
      "Changed value of parameter SolutionNumber to 1\n",
      "   Prev: 0  Min: 0  Max: 2000000000  Default: 0\n",
      "282.0\n",
      "Changed value of parameter SolutionNumber to 2\n",
      "   Prev: 1  Min: 0  Max: 2000000000  Default: 0\n",
      "18.0\n"
     ]
    }
   ],
   "source": [
    "print(model.getAttr(\"SolCount\"))\n",
    "model.setParam(\"SolutionNumber\", 0)\n",
    "print(sum(model.getAttr(\"Xn\")))\n",
    "model.setParam(\"SolutionNumber\", 1)\n",
    "print(sum(model.getAttr(\"Xn\")))\n",
    "model.setParam(\"SolutionNumber\", 2)\n",
    "print(sum(model.getAttr(\"Xn\")))\n",
    "#model.getAttr(\"X\")"
   ]
  },
  {
   "cell_type": "code",
   "execution_count": 34,
   "metadata": {},
   "outputs": [],
   "source": [
    "def writeR(var, c1, c2):\n",
    "    with open(\"resultados/\"+var+\".csv\", \"w\") as file:\n",
    "        file.write(\"{};{};valor\\n\".format(c1,c2))\n",
    "        for x, y in eval(var).items():\n",
    "            a,b = x\n",
    "            file.write(\"{};{};{}\\n\".format(a,b,int(y.X)))\n",
    "writeR(\"V_ij\", \"corredor\", \"carrera\")\n",
    "writeR(\"Z_jt\", \"carrera\", \"fecha\")\n",
    "writeR(\"M_jr\", \"carrera\", \"carrera\")\n",
    "writeR(\"S_jl\", \"carrera\", \"lugar\")"
   ]
  },
  {
   "cell_type": "code",
   "execution_count": null,
   "metadata": {},
   "outputs": [],
   "source": []
  },
  {
   "cell_type": "code",
   "execution_count": null,
   "metadata": {},
   "outputs": [],
   "source": []
  },
  {
   "cell_type": "code",
   "execution_count": null,
   "metadata": {},
   "outputs": [],
   "source": []
  },
  {
   "cell_type": "code",
   "execution_count": null,
   "metadata": {},
   "outputs": [],
   "source": []
  },
  {
   "cell_type": "code",
   "execution_count": null,
   "metadata": {},
   "outputs": [],
   "source": []
  },
  {
   "cell_type": "code",
   "execution_count": null,
   "metadata": {},
   "outputs": [],
   "source": []
  },
  {
   "cell_type": "code",
   "execution_count": null,
   "metadata": {},
   "outputs": [],
   "source": []
  },
  {
   "cell_type": "code",
   "execution_count": null,
   "metadata": {},
   "outputs": [],
   "source": []
  },
  {
   "cell_type": "code",
   "execution_count": null,
   "metadata": {},
   "outputs": [],
   "source": []
  },
  {
   "cell_type": "code",
   "execution_count": null,
   "metadata": {},
   "outputs": [],
   "source": []
  },
  {
   "cell_type": "code",
   "execution_count": null,
   "metadata": {},
   "outputs": [],
   "source": []
  },
  {
   "cell_type": "code",
   "execution_count": null,
   "metadata": {},
   "outputs": [],
   "source": []
  },
  {
   "cell_type": "code",
   "execution_count": null,
   "metadata": {},
   "outputs": [],
   "source": []
  },
  {
   "cell_type": "code",
   "execution_count": null,
   "metadata": {},
   "outputs": [],
   "source": []
  },
  {
   "cell_type": "code",
   "execution_count": null,
   "metadata": {},
   "outputs": [],
   "source": []
  },
  {
   "cell_type": "code",
   "execution_count": null,
   "metadata": {},
   "outputs": [],
   "source": []
  },
  {
   "cell_type": "code",
   "execution_count": null,
   "metadata": {},
   "outputs": [],
   "source": []
  }
 ],
 "metadata": {
  "kernelspec": {
   "display_name": "Python 3",
   "language": "python",
   "name": "python3"
  },
  "language_info": {
   "codemirror_mode": {
    "name": "ipython",
    "version": 3
   },
   "file_extension": ".py",
   "mimetype": "text/x-python",
   "name": "python",
   "nbconvert_exporter": "python",
   "pygments_lexer": "ipython3",
   "version": "3.6.5"
  }
 },
 "nbformat": 4,
 "nbformat_minor": 2
}
